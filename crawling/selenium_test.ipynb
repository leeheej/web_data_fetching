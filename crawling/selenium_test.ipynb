{
 "cells": [
  {
   "cell_type": "code",
   "execution_count": 1,
   "id": "0e71f8d3",
   "metadata": {},
   "outputs": [
    {
     "name": "stdout",
     "output_type": "stream",
     "text": [
      "Collecting selenium\n",
      "  Downloading selenium-4.35.0-py3-none-any.whl.metadata (7.4 kB)\n",
      "Collecting urllib3<3.0,>=2.5.0 (from urllib3[socks]<3.0,>=2.5.0->selenium)\n",
      "  Downloading urllib3-2.5.0-py3-none-any.whl.metadata (6.5 kB)\n",
      "Collecting trio~=0.30.0 (from selenium)\n",
      "  Downloading trio-0.30.0-py3-none-any.whl.metadata (8.5 kB)\n",
      "Collecting trio-websocket~=0.12.2 (from selenium)\n",
      "  Downloading trio_websocket-0.12.2-py3-none-any.whl.metadata (5.1 kB)\n",
      "Collecting certifi>=2025.6.15 (from selenium)\n",
      "  Downloading certifi-2025.8.3-py3-none-any.whl.metadata (2.4 kB)\n",
      "Collecting typing_extensions~=4.14.0 (from selenium)\n",
      "  Downloading typing_extensions-4.14.1-py3-none-any.whl.metadata (3.0 kB)\n",
      "Requirement already satisfied: websocket-client~=1.8.0 in /Library/Frameworks/Python.framework/Versions/3.10/lib/python3.10/site-packages (from selenium) (1.8.0)\n",
      "Requirement already satisfied: attrs>=23.2.0 in /Library/Frameworks/Python.framework/Versions/3.10/lib/python3.10/site-packages (from trio~=0.30.0->selenium) (25.3.0)\n",
      "Collecting sortedcontainers (from trio~=0.30.0->selenium)\n",
      "  Using cached sortedcontainers-2.4.0-py2.py3-none-any.whl.metadata (10 kB)\n",
      "Requirement already satisfied: idna in /Library/Frameworks/Python.framework/Versions/3.10/lib/python3.10/site-packages (from trio~=0.30.0->selenium) (2.10)\n",
      "Collecting outcome (from trio~=0.30.0->selenium)\n",
      "  Using cached outcome-1.3.0.post0-py2.py3-none-any.whl.metadata (2.6 kB)\n",
      "Requirement already satisfied: sniffio>=1.3.0 in /Library/Frameworks/Python.framework/Versions/3.10/lib/python3.10/site-packages (from trio~=0.30.0->selenium) (1.3.1)\n",
      "Requirement already satisfied: exceptiongroup in /Users/huijinlee/Library/Python/3.10/lib/python/site-packages (from trio~=0.30.0->selenium) (1.2.2)\n",
      "Collecting wsproto>=0.14 (from trio-websocket~=0.12.2->selenium)\n",
      "  Using cached wsproto-1.2.0-py3-none-any.whl.metadata (5.6 kB)\n",
      "Requirement already satisfied: pysocks!=1.5.7,<2.0,>=1.5.6 in /Library/Frameworks/Python.framework/Versions/3.10/lib/python3.10/site-packages (from urllib3[socks]<3.0,>=2.5.0->selenium) (1.7.1)\n",
      "Requirement already satisfied: h11<1,>=0.9.0 in /Library/Frameworks/Python.framework/Versions/3.10/lib/python3.10/site-packages (from wsproto>=0.14->trio-websocket~=0.12.2->selenium) (0.9.0)\n",
      "Downloading selenium-4.35.0-py3-none-any.whl (9.6 MB)\n",
      "\u001b[2K   \u001b[90m━━━━━━━━━━━━━━━━━━━━━━━━━━━━━━━━━━━━━━━━\u001b[0m \u001b[32m9.6/9.6 MB\u001b[0m \u001b[31m8.2 MB/s\u001b[0m  \u001b[33m0:00:01\u001b[0m eta \u001b[36m0:00:01\u001b[0m\n",
      "\u001b[?25hDownloading trio-0.30.0-py3-none-any.whl (499 kB)\n",
      "Downloading trio_websocket-0.12.2-py3-none-any.whl (21 kB)\n",
      "Downloading typing_extensions-4.14.1-py3-none-any.whl (43 kB)\n",
      "Downloading urllib3-2.5.0-py3-none-any.whl (129 kB)\n",
      "Downloading certifi-2025.8.3-py3-none-any.whl (161 kB)\n",
      "Using cached outcome-1.3.0.post0-py2.py3-none-any.whl (10 kB)\n",
      "Using cached wsproto-1.2.0-py3-none-any.whl (24 kB)\n",
      "Using cached sortedcontainers-2.4.0-py2.py3-none-any.whl (29 kB)\n",
      "Installing collected packages: sortedcontainers, wsproto, urllib3, typing_extensions, outcome, certifi, trio, trio-websocket, selenium\n",
      "\u001b[2K  Attempting uninstall: urllib3\n",
      "\u001b[2K    Found existing installation: urllib3 2.4.0\n",
      "\u001b[2K    Uninstalling urllib3-2.4.0:\n",
      "\u001b[2K      Successfully uninstalled urllib3-2.4.0\n",
      "\u001b[2K  Attempting uninstall: typing_extensions\n",
      "\u001b[2K    Found existing installation: typing_extensions 4.13.2\n",
      "\u001b[2K    Uninstalling typing_extensions-4.13.2:\n",
      "\u001b[2K      Successfully uninstalled typing_extensions-4.13.2━━━━━━━━━━━\u001b[0m \u001b[32m3/9\u001b[0m [typing_extensions]\n",
      "\u001b[2K  Attempting uninstall: certifi\u001b[0m\u001b[90m━━━━━━━━━━━━━━━━━━━━━━━━━━\u001b[0m \u001b[32m3/9\u001b[0m [typing_extensions]\n",
      "\u001b[2K    Found existing installation: certifi 2025.4.26━━━━━━━━━━━━\u001b[0m \u001b[32m3/9\u001b[0m [typing_extensions]\n",
      "\u001b[2K    Uninstalling certifi-2025.4.26:m━━━━━━━━━━━━━━━━━━━━━━━━━━\u001b[0m \u001b[32m3/9\u001b[0m [typing_extensions]\n",
      "\u001b[2K      Successfully uninstalled certifi-2025.4.26━━━━━━━━━━━━━━\u001b[0m \u001b[32m3/9\u001b[0m [typing_extensions]\n",
      "\u001b[2K   \u001b[90m━━━━━━━━━━━━━━━━━━━━━━━━━━━━━━━━━━━━━━━━\u001b[0m \u001b[32m9/9\u001b[0m [selenium]8/9\u001b[0m [selenium]ions]\n",
      "\u001b[1A\u001b[2K\u001b[31mERROR: pip's dependency resolver does not currently take into account all the packages that are installed. This behaviour is the source of the following dependency conflicts.\n",
      "apache-airflow 2.10.5 requires httpx>=0.25.0, but you have httpx 0.13.3 which is incompatible.\n",
      "google-genai 1.15.0 requires httpx<1.0.0,>=0.28.1, but you have httpx 0.13.3 which is incompatible.\n",
      "jupyterlab 4.4.2 requires httpx>=0.25.0, but you have httpx 0.13.3 which is incompatible.\u001b[0m\u001b[31m\n",
      "\u001b[0mSuccessfully installed certifi-2025.8.3 outcome-1.3.0.post0 selenium-4.35.0 sortedcontainers-2.4.0 trio-0.30.0 trio-websocket-0.12.2 typing_extensions-4.14.1 urllib3-2.5.0 wsproto-1.2.0\n"
     ]
    }
   ],
   "source": [
    "!pip install selenium"
   ]
  },
  {
   "cell_type": "markdown",
   "id": "b45ffe04",
   "metadata": {},
   "source": [
    "---"
   ]
  },
  {
   "cell_type": "markdown",
   "id": "6f5c83a5",
   "metadata": {},
   "source": [
    "# 1. selenium 준비"
   ]
  },
  {
   "cell_type": "code",
   "execution_count": 1,
   "id": "057f1d27",
   "metadata": {},
   "outputs": [],
   "source": [
    "# 라이브러리 임포트\n",
    "from time import sleep\n",
    "\n",
    "from selenium import webdriver\n",
    "\n",
    "# 크롬 드라이버 생성\n",
    "driver = webdriver.Chrome()\n",
    "\n",
    "# 사이트 접속하기\n",
    "driver.get('https://codeit.kr')\n",
    "\n",
    "# 5초 기다리기\n",
    "sleep(5)\n"
   ]
  },
  {
   "cell_type": "code",
   "execution_count": 2,
   "id": "f09cdcf3",
   "metadata": {},
   "outputs": [],
   "source": [
    "driver.quit()"
   ]
  },
  {
   "cell_type": "markdown",
   "id": "e0ff7bdd",
   "metadata": {},
   "source": [
    "---"
   ]
  },
  {
   "cell_type": "markdown",
   "id": "001a4748",
   "metadata": {},
   "source": [
    "# 2. selenium 으로 웹사이트 간단 제어"
   ]
  },
  {
   "cell_type": "code",
   "execution_count": 6,
   "id": "c1725242",
   "metadata": {},
   "outputs": [],
   "source": [
    "from time import sleep\n",
    "from selenium import webdriver\n",
    "from selenium.webdriver.common.by import By\n",
    "from bs4 import BeautifulSoup\n",
    "\n"
   ]
  },
  {
   "cell_type": "code",
   "execution_count": null,
   "id": "0c437037",
   "metadata": {},
   "outputs": [],
   "source": [
    "driver = webdriver.Chrome()\n",
    "driver.implicitly_wait(10)  # 최대 10초 기다리기\n",
    "driver.get('https://workey.codeit.kr/costagram')\n",
    "driver.find_element(by=By.CSS_SELECTOR, value='.top-nav__login-link').click() # 로그인 버튼 클릭\n",
    "driver.find_element(by=By.CSS_SELECTOR, value='.login-container__login-input').send_keys('codeit') # 아이디 입력\n",
    "driver.find_element(by=By.CSS_SELECTOR, value='.login-container__password-input').send_keys('datascience') # 비밀번호 입력\n",
    "driver.find_element(by=By.CSS_SELECTOR, value='.login-container__login-button').click() # 로그인 버튼 클릭"
   ]
  },
  {
   "cell_type": "markdown",
   "id": "2cae4978",
   "metadata": {},
   "source": [
    "- BeautifulSoup 은 html 직접 받음\n",
    "- Selenium 은 웹 동적 접근이라 페이지 로딩 기다려야할 경우도 있음"
   ]
  },
  {
   "cell_type": "markdown",
   "id": "995f751f",
   "metadata": {},
   "source": [
    "- Wait 방식의 2가지\n",
    "    - implicitly_wait : 설정 시간만큼 기다림 (설정 시간 전에, 원하는걸 찾으면 넘어가지만 그렇지 않으면 설정한 시간만큼 계속 시도됨)\n",
    "        - 처음 한 번 설정하면 되고, 코드 전체에 적용됨\n",
    "        - 웹 요소가 존재하는지 여부만 확인함 (버튼 노출-클릭 기능 불러오기 전이라 작동 안해도 모름)\n",
    "    - sleep : 필요할때마다 사용 가능. \n",
    "    - Explicit_wait : 어떤 상태가 될 때까지 기다릴지 명시적으로 적용"
   ]
  },
  {
   "cell_type": "code",
   "execution_count": 6,
   "id": "c8c20c14",
   "metadata": {},
   "outputs": [],
   "source": [
    "# explicit_wait\n",
    "\n",
    "from selenium.webdriver.support import expected_conditions as EC \n",
    "from selenium.webdriver.support.ui import WebDriverWait\n",
    "\n",
    "driver = webdriver.Chrome()\n",
    "wait = WebDriverWait(driver, 3)\n",
    "driver.get('https://workey.codeit.kr/costagram')\n",
    "\n",
    "# 로그인 버튼 클릭 가능할 때까지 최대 3초 기다리기\n",
    "login_link = wait.until(EC.element_to_be_clickable((By.CSS_SELECTOR, '.top-nav__login-link'))) \n",
    "# 클릭\n",
    "login_link.click()\n",
    "\n",
    "# visibility_of_element_located : 요소가 존재하고, 화면에 보여질 때까지 기다림\n",
    "id_box = wait.until(EC.visibility_of_element_located((By.CSS_SELECTOR, '.login-container__login-input'))) \n",
    "id_box.send_keys('codeit')\n",
    "\n",
    "pw_box = wait.until(EC.visibility_of_element_located((By.CSS_SELECTOR, '.login-container__password-input'))) \n",
    "pw_box.send_keys('datascience') # 비밀번호 입력\n",
    "\n",
    "login_btn = wait.until(EC.element_to_be_clickable((By.CSS_SELECTOR, '.login-container__login-button'))) \n",
    "# 클릭\n",
    "login_btn.click()\n",
    "\n",
    "sleep(5)\n",
    "driver.quit()"
   ]
  },
  {
   "cell_type": "markdown",
   "id": "261348af",
   "metadata": {},
   "source": [
    "- element_to_be_clickable(): 웹 요소가 클릭 가능한 상태일 때까지 기다림.\n",
    "- visibility_of_element_located(): 웹 요소가 실제로 보일 때까지 기다림.\n",
    "- text_to_be_present_in_element(): 웹 요소 안에 텍스트가 로딩될 때까지 기다림.\n",
    "- invisibility_of_element_located(): 웹 요소가 안 보일 때까지 기다림."
   ]
  },
  {
   "cell_type": "markdown",
   "id": "f489aa64",
   "metadata": {},
   "source": [
    "---"
   ]
  },
  {
   "cell_type": "markdown",
   "id": "286001b6",
   "metadata": {},
   "source": [
    "### Action Chain\n",
    "\n",
    "```\n",
    "사용자의 마우스, 키보드 동작(action)을 사슬(chain)처럼 이어서 실행하는 것을 말해요.\n",
    "액션 체인을 사용하면 우리가 배운 클릭, 키보드 입력뿐만이 아니라 더블 클릭, 드래그 등 사용자의 모든 마우스, 키보드 동작을 자동화할 수 있는데요.\n",
    "특히 클릭, 키보드 입력 말고 다른 동작은 액션 체인이 꼭 필요합니다.\n",
    "그리고 많은 동작을 한 번에 묶어서 실행할 수 있습니다.\n",
    "사용자 동작 시나리오가 복잡해질 때 유용합니다.\n",
    "```"
   ]
  },
  {
   "cell_type": "markdown",
   "id": "a279af35",
   "metadata": {},
   "source": [
    "- 한 줄의 코드에서, 꼬리에 꼬리를 무는 방식으로 연결하는 방식"
   ]
  },
  {
   "cell_type": "code",
   "execution_count": null,
   "id": "b875005a",
   "metadata": {},
   "outputs": [],
   "source": [
    "from selenium.webdriver.common.action_chains import ActionChains\n",
    "\n",
    "# 사용자 동작에 필요한 웹 요소들 찾기\n",
    "\n",
    "(ActionChains(driver)\n",
    "    # 사용자 액션 정의 \n",
    "    .perform())\n"
   ]
  },
  {
   "cell_type": "code",
   "execution_count": 7,
   "id": "a2921565",
   "metadata": {},
   "outputs": [],
   "source": [
    "from time import sleep\n",
    "\n",
    "from selenium import webdriver\n",
    "from selenium.webdriver import ActionChains\n",
    "from selenium.webdriver.common.by import By\n",
    "\n",
    "driver = webdriver.Chrome()\n",
    "driver.implicitly_wait(3)\n",
    "\n",
    "driver.get('https://workey.codeit.kr/costagram/index')\n",
    "\n",
    "# 로그인 링크 클릭\n",
    "driver.find_element(by=By.CSS_SELECTOR, value='.top-nav__login-link').click()\n",
    "sleep(1)\n",
    "\n",
    "# 아이디 박스, 비밀번호 박스, 로그인 버튼 찾아 놓기\n",
    "id_box = driver.find_element(by=By.CSS_SELECTOR, value='.login-container__login-input')\n",
    "pw_box = driver.find_element(by=By.CSS_SELECTOR, value='.login-container__password-input')\n",
    "login_button = driver.find_element(by=By.CSS_SELECTOR, value='.login-container__login-button')\n",
    "\n",
    "# 액션 실행\n",
    "(ActionChains(driver)\n",
    " .send_keys_to_element(id_box, 'codeit')\n",
    " .send_keys_to_element(pw_box, 'datascience')\n",
    " .click(login_button)\n",
    " .perform())\n",
    "\n",
    "driver.quit()\n",
    "\n"
   ]
  },
  {
   "cell_type": "markdown",
   "id": "0d9a6363",
   "metadata": {},
   "source": [
    "- 하나의 액션은 한 줄로 만들어서 나열하는 방식"
   ]
  },
  {
   "cell_type": "code",
   "execution_count": null,
   "id": "d71c43cb",
   "metadata": {},
   "outputs": [],
   "source": [
    "from selenium.webdriver.common.action_chains import ActionChains\n",
    "\n",
    "# 사용자 동작에 필요한 웹 요소들 찾기\n",
    "\n",
    "actions = ActionChains(driver)\n",
    "\n",
    "# 사용자 액션 정의\n",
    "\n",
    "actions.perform()\n"
   ]
  },
  {
   "cell_type": "code",
   "execution_count": 8,
   "id": "431a0160",
   "metadata": {},
   "outputs": [],
   "source": [
    "from time import sleep\n",
    "\n",
    "from selenium import webdriver\n",
    "from selenium.webdriver import ActionChains\n",
    "from selenium.webdriver.common.by import By\n",
    "\n",
    "driver = webdriver.Chrome()\n",
    "driver.implicitly_wait(3)\n",
    "\n",
    "driver.get('https://workey.codeit.kr/costagram/index')\n",
    "\n",
    "# 로그인 링크 클릭\n",
    "driver.find_element(by=By.CSS_SELECTOR, value='.top-nav__login-link').click()\n",
    "sleep(1)\n",
    "\n",
    "# 아이디 박스, 비밀번호 박스, 로그인 버튼 찾아 놓기\n",
    "id_box = driver.find_element(by=By.CSS_SELECTOR, value='.login-container__login-input')\n",
    "pw_box = driver.find_element(by=By.CSS_SELECTOR, value='.login-container__password-input')\n",
    "login_button = driver.find_element(by=By.CSS_SELECTOR, value='.login-container__login-button')\n",
    "\n",
    "# 액션 실행\n",
    "actions = ActionChains(driver)\n",
    "actions.send_keys_to_element(id_box, 'codeit')\n",
    "actions.send_keys_to_element(pw_box, 'datascience')\n",
    "actions.click(login_button)\n",
    "actions.perform()\n",
    "\n",
    "driver.quit()\n",
    "\n"
   ]
  },
  {
   "cell_type": "markdown",
   "id": "7481b332",
   "metadata": {},
   "source": [
    "- Action Chain 기능"
   ]
  },
  {
   "cell_type": "code",
   "execution_count": null,
   "id": "e4a541ee",
   "metadata": {},
   "outputs": [],
   "source": [
    "# 클릭\n",
    ".click(element=None) # element 생략시 현재 위치 클릭\n",
    "\n",
    "# 오른쪽 클릭\n",
    ".context_click(element=None) # element 생략시 현재 위치 클릭\n",
    "\n",
    "# 더블 클릭\n",
    ".doulble_click(element=None) # element 생략시 현재 위치 클릭\n",
    "\n",
    "# 드래그 앤 드롭\n",
    ".drag_and_drop(source, target) # source: 드래그할 요소, target: 드롭할 요소\n",
    "# source를 target 위치로 드래그 앤 드롭\n",
    ".drag_and_drop_by_offset(source, xoffset, yoffset) # source: 드래그할 요소, xoffset: x축 이동 거리, yoffset: y축 이동 거리\n",
    "\n",
    "\n",
    "# 마우스 이동\n",
    ".move_to_element(element) # element 웹 요소까지 마우스 움직임\n",
    "\n",
    "# 키보드 입력\n",
    ".send_keys(keys) # 현재 위치에 키보드 입력\n",
    ".send_keys_to_element(element, keys) # element 위치에 키보드 입력\n",
    "\n",
    "# 동작 중지\n",
    ".pause(seconds) # seconds 초 만큼 동작 중지\n",
    "# action Chain 에서 동작 중간에 잠시 멈추고 싶을 때 사용 (sleep 대신 pause 사용)\n",
    "\n"
   ]
  },
  {
   "cell_type": "markdown",
   "id": "b191bf5e",
   "metadata": {},
   "source": [
    "---"
   ]
  },
  {
   "cell_type": "markdown",
   "id": "b272bcd5",
   "metadata": {},
   "source": [
    "| Beautiful Soup | Selenium |\n",
    "| :--- | :--- |\n",
    "| `soup.select_one()` | `driver.find_element()` |\n",
    "| `soup.select()` | `driver.find_elements()` |\n",
    "| `Tag` | `WebElement` |\n",
    "| `tag.select()` | `web_element.find_elements()` |\n",
    "| `tag.get_text()` | `web_element.text` |\n",
    "| `tag.strings` | - |\n",
    "| `tag.stripped_strings` | - |\n",
    "| `tag['attr']` | `web_element.get_attribute('attr')` |"
   ]
  },
  {
   "cell_type": "markdown",
   "id": "31a16e37",
   "metadata": {},
   "source": [
    "- selenium으로 JavaScript 사용하기"
   ]
  },
  {
   "cell_type": "code",
   "execution_count": null,
   "id": "1a073e06",
   "metadata": {},
   "outputs": [],
   "source": [
    "driver = webdriver.Chrome()\n",
    "driver.implicitly_wait(3)\n",
    "\n",
    "driver.get('https://workey.codeit.kr/costagram/index')\n",
    "sleep(3)\n",
    "\n",
    "driver.execute_script('window,scrollTo(0,200);') # 200px 만큼 스크롤 내리기\n",
    "scroll_height = driver.execute_script('return document.body.scrollHeight') # 현재 문서의 총 높이 구하기\n",
    "print(scroll_height)\n",
    "\n",
    "# 현재 scrollHeight 가져오기\n",
    "last_height = driver.execute_script('return document.body.scrollHeight')\n",
    "\n",
    "while True :\n",
    "    # scrollHeight 만큼 스크롤 내리기\n",
    "    driver.execute_script('window.scrollTo(0, document.body.scrollHeight);')\n",
    "    \n",
    "    # 새로운 내용 로딩때까지 기다림\n",
    "    sleep(0.5)\n",
    "    \n",
    "    # 새로운 내용 로딩됐는지 확인\n",
    "    new_height = driver.execute_script('return document.body.scrollHeight')\n",
    "    if new_height == last_height :\n",
    "        break\n",
    "    last_height = new_height\n",
    "\n",
    "sleep(5)\n",
    "driver.quit()"
   ]
  },
  {
   "cell_type": "markdown",
   "id": "ae0d6539",
   "metadata": {},
   "source": [
    "- openpyxl"
   ]
  },
  {
   "cell_type": "code",
   "execution_count": 5,
   "id": "d626048d",
   "metadata": {},
   "outputs": [
    {
     "name": "stdout",
     "output_type": "stream",
     "text": [
      "1464\n"
     ]
    }
   ],
   "source": [
    "from openpyxl import Workbook\n",
    "\n",
    "wb = Workbook(write_only=True)\n",
    "ws = wb.create_sheet('플레이리스트')\n",
    "ws.append(['제목', '해시태그', '좋아요 수', '노래 수'])\n",
    "\n",
    "driver = webdriver.Chrome()\n",
    "driver.implicitly_wait(3)\n",
    "\n",
    "driver.get('https://workey.codeit.kr/music')\n",
    "sleep(3)\n",
    "\n",
    "driver.execute_script('window,scrollTo(0,200);') # 200px 만큼 스크롤 내리기\n",
    "scroll_height = driver.execute_script('return document.body.scrollHeight') # 현재 문서의 총 높이 구하기\n",
    "print(scroll_height)\n",
    "\n",
    "# 현재 scrollHeight 가져오기\n",
    "last_height = driver.execute_script('return document.body.scrollHeight')\n",
    "\n",
    "while True :\n",
    "    # scrollHeight 만큼 스크롤 내리기\n",
    "    driver.execute_script('window.scrollTo(0, document.body.scrollHeight);')\n",
    "    \n",
    "    # 새로운 내용 로딩때까지 기다림\n",
    "    sleep(0.5)\n",
    "    \n",
    "    # 새로운 내용 로딩됐는지 확인\n",
    "    new_height = driver.execute_script('return document.body.scrollHeight')\n",
    "    if new_height == last_height :\n",
    "        break\n",
    "    last_height = new_height\n",
    "\n",
    "playlist = driver.find_elements(by=By.CSS_SELECTOR, value='div.playlist__meta')\n",
    "\n",
    "for playlist in playlist :\n",
    "    title = playlist.find_element(by=By.CSS_SELECTOR, value='h3.title').text\n",
    "    hashtag = playlist.find_element(by=By.CSS_SELECTOR, value='p.tags').text\n",
    "    like_count = playlist.find_element(by=By.CSS_SELECTOR, value='span.data__like-count').text\n",
    "    music_count = playlist.find_element(by=By.CSS_SELECTOR, value='span.data__music-count').text\n",
    "    ws.append([title, hashtag, like_count, music_count])\n",
    "\n",
    "driver.quit()\n",
    "\n",
    "wb.save('playlist.xlsx')\n"
   ]
  },
  {
   "cell_type": "markdown",
   "id": "58cd42e2",
   "metadata": {},
   "source": [
    "- selenium + BeautifulSoup"
   ]
  },
  {
   "cell_type": "code",
   "execution_count": 7,
   "id": "aedf4876",
   "metadata": {},
   "outputs": [
    {
     "name": "stdout",
     "output_type": "stream",
     "text": [
      "1464\n"
     ]
    }
   ],
   "source": [
    "wb = Workbook(write_only=True)\n",
    "ws = wb.create_sheet('플레이리스트')\n",
    "ws.append(['제목', '해시태그', '좋아요 수', '노래 수'])\n",
    "\n",
    "driver = webdriver.Chrome()\n",
    "driver.implicitly_wait(3)\n",
    "\n",
    "driver.get('https://workey.codeit.kr/music')\n",
    "sleep(3)\n",
    "\n",
    "driver.execute_script('window,scrollTo(0,200);') # 200px 만큼 스크롤 내리기\n",
    "scroll_height = driver.execute_script('return document.body.scrollHeight') # 현재 문서의 총 높이 구하기\n",
    "print(scroll_height)\n",
    "\n",
    "# 현재 scrollHeight 가져오기\n",
    "last_height = driver.execute_script('return document.body.scrollHeight')\n",
    "\n",
    "while True :\n",
    "    # scrollHeight 만큼 스크롤 내리기\n",
    "    driver.execute_script('window.scrollTo(0, document.body.scrollHeight);')\n",
    "    \n",
    "    # 새로운 내용 로딩때까지 기다림\n",
    "    sleep(0.5)\n",
    "    \n",
    "    # 새로운 내용 로딩됐는지 확인\n",
    "    new_height = driver.execute_script('return document.body.scrollHeight')\n",
    "    if new_height == last_height :\n",
    "        break\n",
    "    last_height = new_height\n",
    "\n",
    "# 스크롤 완료\n",
    "# 필요한 html 모두 로딩됨\n",
    "\n",
    "music_page = driver.page_source\n",
    "# html 가져왔으니 driver 종료\n",
    "driver.quit()\n",
    "\n",
    "# bs4로 파싱\n",
    "soup = BeautifulSoup(music_page, 'html.parser')\n",
    "\n",
    "playlist = soup.select('.playlist__meta')\n",
    "\n",
    "for playlist in playlist :\n",
    "    title = playlist.select_one('h3.title').text\n",
    "    hashtag = playlist.select_one('p.tags').text\n",
    "    like_count = playlist.select_one('span.data__like-count').text\n",
    "    music_count = playlist.select_one('span.data__music-count').text\n",
    "    ws.append([title, hashtag, like_count, music_count])\n",
    "\n",
    "wb.save('playlist_bs4.xlsx')\n"
   ]
  },
  {
   "cell_type": "markdown",
   "id": "606646d3",
   "metadata": {},
   "source": [
    "---"
   ]
  },
  {
   "cell_type": "markdown",
   "id": "ff1f59ed",
   "metadata": {},
   "source": [
    "### Selenium 으로 Select 태그"
   ]
  },
  {
   "cell_type": "code",
   "execution_count": null,
   "id": "b87c304a",
   "metadata": {},
   "outputs": [],
   "source": [
    "# 라이브러리\n",
    "from selenium.webdriver.support.ui import Select"
   ]
  },
  {
   "cell_type": "code",
   "execution_count": null,
   "id": "d28fa873",
   "metadata": {},
   "outputs": [],
   "source": [
    "city_code_select = Select(driver.find_element(by=By.CSS_SELECTOR, value='#cityCode'))\n",
    "\n",
    "# 옵션 이름으로 선택(웹사이트에서 보이는 옵션 이름)\n",
    "city_code_select.select_by_visible_text('서울특별시')\n",
    "\n",
    "# 옵션의 value로 선택('서울특별시' 옵션의 value는 1100)\n",
    "city_code_select.select_by_value('1100')\n",
    "\n",
    "# 옵션의 인덱스로 선택('서울특별시'는 두 번째 옵션)\n",
    "city_code_select.select_by_index(1)\n",
    "\n",
    "\n",
    "sgg_city_code_select = Select(driver.find_element(by=By.CSS_SELECTOR, value='#sggCityCode'))\n",
    "\n",
    "# 옵션 이름으로 선택(웹사이트에서 보이는 옵션 이름)\n",
    "sgg_city_code_select.select_by_visible_text('종로구')\n",
    "\n",
    "# 옵션의 value로 선택('종로구' 옵션의 value는 2110101)\n",
    "sgg_city_code_select.select_by_value('2110101')\n",
    "\n",
    "# 옵션의 인덱스로 선택('종로구'는 두 번째 옵션)\n",
    "sgg_city_code_select.select_by_index(1)\n"
   ]
  },
  {
   "cell_type": "markdown",
   "id": "c5813221",
   "metadata": {},
   "source": [
    "- 실습"
   ]
  },
  {
   "cell_type": "code",
   "execution_count": null,
   "id": "a3e6af63",
   "metadata": {},
   "outputs": [],
   "source": [
    "from time import sleep\n",
    "\n",
    "from selenium import webdriver\n",
    "from selenium.webdriver.common.by import By\n",
    "from selenium.webdriver.support.ui import Select\n",
    "\n",
    "driver = webdriver.Chrome()\n",
    "driver.implicitly_wait(3)\n",
    "\n",
    "# 선거 웹사이트 접속\n",
    "driver.get('http://info.nec.go.kr/main/showDocument.xhtml?electionId=0020240410&topMenuId=CP&secondMenuId=CPRI03')\n",
    "sleep(1)\n",
    "\n",
    "# '국회의원선거'탭 클릭 \n",
    "driver.find_element(by=By.CSS_SELECTOR, value='#electionId2').click()\n",
    "\n",
    "# 서울특별시 선택\n",
    "city_code_select = Select(driver.find_element(by=By.CSS_SELECTOR, value='#cityCode'))\n",
    "city_code_select.select_by_visible_text('서울특별시')\n",
    "\n",
    "# 종로구 선택\n",
    "sgg_city_code_select = Select(driver.find_element(by=By.CSS_SELECTOR, value='#sggCityCode'))\n",
    "sgg_city_code_select.select_by_visible_text('종로구') \n",
    "\n",
    "# '검색'버튼 클릭\n",
    "driver.find_element(by=By.CSS_SELECTOR, value='#spanSubmit').click()\n",
    "\n",
    "# 필요한 국회의원 정보 가져오기\n",
    "\n",
    "# 웹 드라이버 종료\n",
    "driver.quit()\n"
   ]
  },
  {
   "cell_type": "markdown",
   "id": "19d52ad5",
   "metadata": {},
   "source": [
    "- 기본 기능"
   ]
  },
  {
   "cell_type": "code",
   "execution_count": null,
   "id": "6b2169b6",
   "metadata": {},
   "outputs": [],
   "source": [
    "# 웹 페이지로 이동\n",
    "driver.get('URL')\n",
    "\n",
    "# 뒤로가기 (이전 페이지로 이동)\n",
    "driver.back()\n",
    "\n",
    "# 앞으로가기 (다음 페이지로 이동)\n",
    "driver.forward()\n",
    "\n",
    "# 새로고침\n",
    "driver.refresh()\n",
    "\n",
    "# 현재 url 가져오기\n",
    "current_url = driver.current_url"
   ]
  },
  {
   "cell_type": "markdown",
   "id": "e6349510",
   "metadata": {},
   "source": [
    "- 웹 브라우저 창 제어"
   ]
  },
  {
   "cell_type": "code",
   "execution_count": null,
   "id": "e45e83ec",
   "metadata": {},
   "outputs": [],
   "source": [
    "# 풀스크린\n",
    "driver.fullscreen_window()\n",
    "\n",
    "# 최대화\n",
    "driver.maximize_window()\n",
    "\n",
    "# 최소화\n",
    "driver.minimize_window()\n",
    "\n",
    "# 창 크기 조절\n",
    "driver.set_window_size(width, height) # width: 너비, height: 높이\n",
    "\n",
    "# 창 위치 조절\n",
    "driver.set_window_position(x, y) # x: x좌표, y: y좌표\n",
    "\n",
    "# 창 닫기\n",
    "driver.close() # 현재 탭 닫기\n",
    "driver.quit() # 모든 탭 닫기\n",
    "\n",
    "# 스크린샷\n",
    "driver.save_screenshot('screenshot.png') # 현재 페이지 스크린샷 저장"
   ]
  },
  {
   "cell_type": "markdown",
   "id": "564dd53e",
   "metadata": {},
   "source": [
    "- 웹 브라우저 창 여러 개 다루기"
   ]
  },
  {
   "cell_type": "code",
   "execution_count": null,
   "id": "44ab40f4",
   "metadata": {},
   "outputs": [],
   "source": [
    "from time import sleep\n",
    "\n",
    "from selenium import webdriver\n",
    "\n",
    "driver = webdriver.Chrome()\n",
    "driver.implicitly_wait(3)\n",
    "\n",
    "# 쿠팡 '커피' 검색 결과 페이지 접속\n",
    "driver.get('https://www.coupang.com/np/search?component=&q=%EC%BB%A4%ED%94%BC&channel=user')\n",
    "sleep(1)\n",
    "\n",
    "# 각 아이템은 <li> 태그에 있는데요. ul.search-product-list > li.search-product 선택자를 사용하면 모든 아이템을 가져올 수 있습니다. \n",
    "# 이렇게 조금 더 자세하게 선택자를 적어 준 이유는, \n",
    "# 우리가 원치 않는 오류를 일으키는 li.search-product 요소를 제외하고 \n",
    "# 원하는 항목만 선택하기 위해서입니다.\n",
    "products = driver.find_elements(by=By.CSS_SELECTOR, value='ul.search-product-list > li.search-product')\n",
    "# 그리고 아이템을 클릭합니다.\n",
    "products[0].click()\n",
    "\n"
   ]
  },
  {
   "cell_type": "code",
   "execution_count": null,
   "id": "11bee0fd",
   "metadata": {},
   "outputs": [],
   "source": [
    "# 하지만 새 탭은 열리지만 이렇게 오류가 나는데요. \n",
    "# 이 주소를 평소에 사용하는 크롬에 붙여 넣으면 제대로 동작합니다. \n",
    "# 보통 이럴 땐 해당 사이트에서 자동화 코드를 막아 놓은 거라고 보시면 됩니다.\n",
    "# 일단은 이런 식으로 웹 드라이버에 --disable-blink-features=AutomationControlled 옵션을 추가하면 막아 놓은 걸 우회할 수 있습니다.\n",
    "\n",
    "options = webdriver.ChromeOptions()\n",
    "options.add_argument('--disable-blink-features=AutomationControlled')\n",
    "driver = webdriver.Chrome(options=options)"
   ]
  },
  {
   "cell_type": "markdown",
   "id": "26e0659f",
   "metadata": {},
   "source": [
    "```\n",
    "하지만 여기서 주의하셔야 할 점은 현재 웹 브라우저에서 열린 탭과 Selenium이 포커스된 탭은 다르다는 점입니다. Selenium이 포커스된 탭은, Selenium 웹 드라이버가 현재 '다루고 있는' 탭입니다. 이건 우리가 설정해 주지 않는 한 바뀌지 않습니다. 그러니까 지금처럼 새로운 상세 페이지가 열렸어도, Selenium은 .get()으로 접속한 첫 번째 탭, 검색 페이지에 포커스되어 있는 거죠.\n",
    "\n",
    "그래서 이렇게 새로운 탭이 열렸어도, 계속 검색 결과 페이지에 있는 것처럼 새로운 아이템들을 클릭할 수 있습니다.\n",
    "```"
   ]
  },
  {
   "cell_type": "code",
   "execution_count": null,
   "id": "9a0d70a0",
   "metadata": {},
   "outputs": [],
   "source": [
    "from time import sleep\n",
    "\n",
    "from selenium import webdriver\n",
    "from selenium.webdriver.common.by import By\n",
    "\n",
    "options = webdriver.ChromeOptions()\n",
    "options.add_argument('--disable-blink-features=AutomationControlled')\n",
    "driver = webdriver.Chrome(options=options)\n",
    "driver.implicitly_wait(3)\n",
    "\n",
    "# 쿠팡 '커피' 검색 결과 페이지 접속\n",
    "driver.get('https://www.coupang.com/np/search?component=&q=%EC%BB%A4%ED%94%BC&channel=user')\n",
    "sleep(1)\n",
    "\n",
    "products = driver.find_elements(by=By.CSS_SELECTOR, value='ul.search-product-list > li.search-product')\n",
    "\n",
    "# 총 3개의 상세 페이지가 열렸습니다.\n",
    "products[0].click()\n",
    "products[1].click()\n",
    "products[2].click()\n",
    "\n",
    "sleep(5)\n",
    "driver.quit()\n",
    "\n",
    "# Selenium이 포커스된 탭을 바꾸려면 아래 코드를 실행하면 됩니다. \n",
    "# 아래 코드를 실행하면 i 번째 탭으로 포커스가 바뀝니다.\n",
    "driver.switch_to.window(driver.window_handles[i])\n"
   ]
  },
  {
   "cell_type": "markdown",
   "id": "48f8dee4",
   "metadata": {},
   "source": [
    "```\n",
    "driver.window_handles는 현재 열려 있는 탭 리스트라고 생각하시면 됩니다. i 번째 탭을 driver.window_handles[i]로 가져온 다음, driver.switch_to.window() 메소드에 넣어 주면 됩니다.\n",
    "\n",
    "참고로 현재 포커스된 탭은 driver.current_window_handle로 확인하실 수 있습니다.\n",
    "```"
   ]
  },
  {
   "cell_type": "code",
   "execution_count": null,
   "id": "62006938",
   "metadata": {},
   "outputs": [],
   "source": [
    "from time import sleep\n",
    "\n",
    "from selenium import webdriver\n",
    "from selenium.webdriver.common.by import By\n",
    "\n",
    "options = webdriver.ChromeOptions()\n",
    "options.add_argument('--disable-blink-features=AutomationControlled')\n",
    "driver = webdriver.Chrome(options=options)\n",
    "driver.implicitly_wait(3)\n",
    "\n",
    "# 쿠팡 '커피' 검색 결과 페이지 접속\n",
    "driver.get('https://www.coupang.com/np/search?component=&q=%EC%BB%A4%ED%94%BC&channel=user')\n",
    "sleep(1)\n",
    "\n",
    "products = driver.find_elements(by=By.CSS_SELECTOR, value='ul.search-product-list > li.search-product')\n",
    "\n",
    "products[0].click()\n",
    "products[1].click()\n",
    "products[2].click()\n",
    "\n",
    "# 모든 탭 리스트\n",
    "print(driver.window_handles)\n",
    "\n",
    "# 현재 포커스된 탭 - 아직 탭을 바꿔 주지 않았기 때문에 처음 .get()으로 접속한 탭\n",
    "print(driver.current_window_handle)\n",
    "\n",
    "# 두 번째 탭으로 바꿔 주기\n",
    "driver.switch_to.window(driver.window_handles[1])\n",
    "\n",
    "# 현재 포커스된 탭\n",
    "print(driver.current_window_handle)\n",
    "\n",
    "sleep(5)\n",
    "driver.quit()\n"
   ]
  },
  {
   "cell_type": "markdown",
   "id": "0fffe348",
   "metadata": {},
   "source": [
    "---"
   ]
  },
  {
   "cell_type": "markdown",
   "id": "ff2cbbe1",
   "metadata": {},
   "source": [
    "## iframe 다루기"
   ]
  },
  {
   "cell_type": "code",
   "execution_count": null,
   "id": "c82eb1fa",
   "metadata": {},
   "outputs": [],
   "source": [
    "driver.find_element(by=By.CSS_SELECTOR, value='#blogTitleText') # 웹 요소를 찾을 수 없다는 오류\n",
    "# iframe 안에 있는 요소를 찾으려면, 먼저 그 iframe으로 포커스를 바꿔 주어야 합니다.\n",
    "# iframe으로 포커스를 바꾸려면, 그 iframe 요소를 찾아서 driver.switch_to.frame() 메소드에 넣어 주면 됩니다.\n",
    "iframe = driver.find_element(by=By.CSS_SELECTOR, value='#mainFrame')\n",
    "driver.switch_to.frame(iframe)\n",
    "# 이제 iframe 안에 있는 요소를 찾을 수 있습니다.\n",
    "driver.find_element(by=By.CSS_SELECTOR, value='#blogTitleText') "
   ]
  },
  {
   "cell_type": "markdown",
   "id": "c80e6b1b",
   "metadata": {},
   "source": [
    "- iframe 스위칭"
   ]
  },
  {
   "cell_type": "code",
   "execution_count": null,
   "id": "5ffc290a",
   "metadata": {},
   "outputs": [],
   "source": [
    "driver.switch_to.window() # 탭/창으로 이동\n",
    "driver.switch_to.frame() # 프레임으로 이동"
   ]
  },
  {
   "cell_type": "markdown",
   "id": "141b6142",
   "metadata": {},
   "source": [
    "```\n",
    "driver.switch_to.frame() 안에는 다음과 같은 값을 넣을 수 있습니다.\n",
    "\n",
    "- <iframe> 웹 요소\n",
    "- <iframe>의 id 속성값\n",
    "- <iframe>의 name 속성값(name 속성값은 중복될 수 있습니다)\n",
    "- <iframe> 인덱스\n",
    "```"
   ]
  },
  {
   "cell_type": "code",
   "execution_count": null,
   "id": "619daccd",
   "metadata": {},
   "outputs": [],
   "source": [
    "# 웹 요소 파라미터로 사용\n",
    "driver.switch_to.frame(driver.find_element(by=By.CSS_SELECTOR, value='#mainFrame'))\n",
    "\n",
    "# iframe의 id 또는 name 속성값 사용\n",
    "driver.switch_to.frame('mainFrame')\n",
    "\n",
    "# iframe 인덱스 사용\n",
    "driver.switch_to.frame(0)\n"
   ]
  },
  {
   "cell_type": "code",
   "execution_count": null,
   "id": "ae2978d3",
   "metadata": {},
   "outputs": [],
   "source": [
    "from time import sleep\n",
    "\n",
    "from selenium import webdriver\n",
    "from selenium.webdriver.common.by import By\n",
    "\n",
    "driver = webdriver.Chrome()\n",
    "driver.implicitly_wait(3)\n",
    "\n",
    "# 코드잇 네이버 블로그 접속\n",
    "driver.get('https://blog.naver.com/codeitofficial')\n",
    "sleep(1)\n",
    "\n",
    "# 'mainFrame'으로 이동\n",
    "driver.switch_to.frame('mainFrame')\n",
    "\n",
    "# 블로그 글 내용 출력\n",
    "print(driver.find_element(by=By.CSS_SELECTOR, value='div.se-main-container').text)\n",
    "\n",
    "driver.quit()\n"
   ]
  },
  {
   "cell_type": "markdown",
   "id": "e87b4b98",
   "metadata": {},
   "source": [
    "---"
   ]
  },
  {
   "cell_type": "markdown",
   "id": "078cee3e",
   "metadata": {},
   "source": [
    "### robots.txt\n",
    "> robots.txt 파일은 웹 크롤러(크롤링 전용 프로그램)들이 웹사이트를 크롤링할 때 지켜야 하는 규칙을 명시해 놓은 파일인데요, 웹 스크래핑을 할 때도 robots.txt 파일을 가이드라인으로 삼으면 좋습니다.\n",
    "\n",
    "> obots.txt 파일은 웹사이트 루트(도메인 뒤에 경로가 붙지 않은 주소)에서 찾을 수 있습니다"
   ]
  },
  {
   "cell_type": "markdown",
   "id": "1f8273d0",
   "metadata": {},
   "source": [
    "```\n",
    "User-agent: *\n",
    "Disallow: /search\n",
    "Allow: /search/about\n",
    "Allow: /search/static\n",
    "Allow: /search/howsearchworks\n",
    "Disallow: /sdch\n",
    "Disallow: /groups\n",
    "Disallow: /index.html?\n",
    "Disallow: /?\n",
    "\n",
    "...\n",
    "\n",
    "# AdsBot\n",
    "User-agent: AdsBot-Google\n",
    "Disallow: /maps/api/js/\n",
    "Allow: /maps/api/js\n",
    "Disallow: /maps/api/place/js/\n",
    "Disallow: /maps/api/staticmap\n",
    "Disallow: /maps/api/streetview\n",
    "```"
   ]
  },
  {
   "cell_type": "markdown",
   "id": "069b8fa2",
   "metadata": {},
   "source": [
    "> 예를 들어 위에는 구글 robots.txt 파일의 일부인데요. robots.txt 파일에서 다음과 같은 의미입니다.\n",
    "\n",
    "- User-agent는 누구에게 규칙이 적용되는지를 뜻합니다. *는 모두에게 규칙이 적용된다는 뜻입니다.\n",
    "- Disallow는 경로 아래에 있는 모든 URL에 대해 크롤링을 금지한다는 뜻이고, Allow는 경로 아래에 있는 모든 URL에 대해 크롤링을 허용한다는 뜻합니다.\n",
    "> 처음 몇 줄을 해석해 보면, 모든 크롤러는 www.google.com/search로 시작하는 URL은 크롤링하면 안 되는데, 그중 www.google.com/search/about, www.google/com/search/static, www.google.com/search/howsearchworks로 시작하는 URL들은 괜찮다는 뜻입니다."
   ]
  },
  {
   "cell_type": "markdown",
   "id": "faf3621d",
   "metadata": {},
   "source": []
  }
 ],
 "metadata": {
  "kernelspec": {
   "display_name": "Python 3",
   "language": "python",
   "name": "python3"
  },
  "language_info": {
   "codemirror_mode": {
    "name": "ipython",
    "version": 3
   },
   "file_extension": ".py",
   "mimetype": "text/x-python",
   "name": "python",
   "nbconvert_exporter": "python",
   "pygments_lexer": "ipython3",
   "version": "3.10.11"
  }
 },
 "nbformat": 4,
 "nbformat_minor": 5
}
